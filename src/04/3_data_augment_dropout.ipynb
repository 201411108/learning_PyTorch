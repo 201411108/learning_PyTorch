{
 "cells": [
  {
   "cell_type": "code",
   "execution_count": 32,
   "metadata": {},
   "outputs": [],
   "source": [
    "import torch\n",
    "import torch.nn as nn\n",
    "import torch.optim as optim\n",
    "import torch.nn.functional as F\n",
    "from torchvision import transforms, datasets"
   ]
  },
  {
   "cell_type": "code",
   "execution_count": 33,
   "metadata": {},
   "outputs": [],
   "source": [
    "# CUDA, 실행 device setting\n",
    "USE_CUDA = torch.cuda.is_available()\n",
    "DEVICE = torch.device(\"cuda\" if USE_CUDA else \"cpu\")"
   ]
  },
  {
   "cell_type": "code",
   "execution_count": 53,
   "metadata": {},
   "outputs": [],
   "source": [
    "EPOCHS = 50\n",
    "BATCH_SIZE = 64"
   ]
  },
  {
   "cell_type": "code",
   "execution_count": 54,
   "metadata": {},
   "outputs": [],
   "source": [
    "# data augmentation\n",
    "train_loader = torch.utils.data.DataLoader(\n",
    "    datasets.FashionMNIST('./.data',\n",
    "                   train=True,\n",
    "                   download=True,\n",
    "                   transform=transforms.Compose([\n",
    "                       transforms.RandomHorizontalFlip(),\n",
    "                       transforms.ToTensor(),\n",
    "                       transforms.Normalize((0.1307, ), (0.3081, ))\n",
    "                   ])\n",
    "                  ),\n",
    "    batch_size = BATCH_SIZE,\n",
    "    shuffle = True\n",
    ")\n",
    "test_loader = torch.utils.data.DataLoader(\n",
    "    datasets.FashionMNIST('./.data',\n",
    "                          train=False,\n",
    "                          download=True,\n",
    "                          transform=transforms.Compose([\n",
    "                              transforms.ToTensor(),\n",
    "                              transforms.Normalize((0.1307, ), (0.3081, ))\n",
    "                          ])\n",
    "                         ),\n",
    "    batch_size = BATCH_SIZE,\n",
    "    shuffle = True\n",
    ")"
   ]
  },
  {
   "cell_type": "code",
   "execution_count": 55,
   "metadata": {},
   "outputs": [],
   "source": [
    "# ANN settings + dropout\n",
    "# dropout, 학습 시 일부 tensor만 활용 overfitting을 막기 위해 사용한다.\n",
    "class Net(nn.Module):\n",
    "    def __init__(self, dropout_p=0.2):\n",
    "        super(Net, self).__init__()\n",
    "        self.fc1 = nn.Linear(784, 256)\n",
    "        self.fc2 = nn.Linear(256, 128)\n",
    "        self.fc3 = nn.Linear(128, 10)\n",
    "        # dropout\n",
    "        self.dropout_p = dropout_p \n",
    "        \n",
    "    def forward(self, x):\n",
    "        # 1차원 행렬로 변환\n",
    "        x = x.view(-1, 784)\n",
    "        # 각 레이어를 거쳐 활성화 함수 실행, 다음 뉴런으로 진행\n",
    "        x = F.relu(self.fc1(x))\n",
    "        # dropout\n",
    "        x = F.dropout(x, training=self.training, p=self.dropout_p)\n",
    "        x = F.relu(self.fc2(x))\n",
    "        # dropout\n",
    "        x = F.dropout(x, training=self.training, p=self.dropout_p)\n",
    "        x = self.fc3(x)\n",
    "        return x"
   ]
  },
  {
   "cell_type": "code",
   "execution_count": 56,
   "metadata": {},
   "outputs": [],
   "source": [
    "# 설정한 실행 환경에 모델 선언\n",
    "# dropout할 비율 설정, 전체 tensor 중 20%를 사용하지 않는다.\n",
    "model = Net(dropout_p=0.2).to(DEVICE)\n",
    "\n",
    "# 최적화 알고리즘 설정\n",
    "optimizer = optim.SGD(model.parameters(), lr = 0.01)"
   ]
  },
  {
   "cell_type": "code",
   "execution_count": 57,
   "metadata": {},
   "outputs": [],
   "source": [
    "# 학습 함수\n",
    "def train(model, train_loader, optimizer):\n",
    "    model.train()\n",
    "    \n",
    "    for batch_dix, (data, target) in enumerate(train_loader):\n",
    "        # 학습 데이터를 DEVICE의 메모리로 보냄\n",
    "        data, target = data.to(DEVICE), target.to(DEVICE)\n",
    "        \n",
    "        optimizer.zero_grad()\n",
    "        output = model(data)\n",
    "        loss = F.cross_entropy(output, target)\n",
    "        loss.backward()\n",
    "        optimizer.step()"
   ]
  },
  {
   "cell_type": "code",
   "execution_count": 58,
   "metadata": {},
   "outputs": [],
   "source": [
    "# 평가 함수 \n",
    "def evaluate(model, test_loader):\n",
    "    model.eval()\n",
    "    test_loss = 0\n",
    "    correct = 0 # 예측을 맞춘 수를 저장하기 위한 변수\n",
    "    \n",
    "    with torch.no_grad():\n",
    "        for data, target in test_loader:\n",
    "            data, target = data.to(DEVICE), target.to(DEVICE)\n",
    "            output = model(data)\n",
    "            \n",
    "            # 모든 오차 더하기\n",
    "            test_loss += F.cross_entropy(output, target, reduction='sum').item()\n",
    "            \n",
    "            # 가장 큰 값을 가진 클래스가 모델의 예측\n",
    "            # 예측과 정답을 비교하여 일치할 경우 correct에 1을 더한다.\n",
    "            pred = output.max(1, keepdim=True)[1]\n",
    "            correct += pred.eq(target.view_as(pred)).sum().item()\n",
    "            \n",
    "        # 정확도 측정\n",
    "        test_loss /= len(test_loader.dataset)\n",
    "        test_accuracy = 100. * correct / len(test_loader.dataset)\n",
    "        return test_loss, test_accuracy"
   ]
  },
  {
   "cell_type": "code",
   "execution_count": 59,
   "metadata": {},
   "outputs": [
    {
     "name": "stdout",
     "output_type": "stream",
     "text": [
      "[1] Test Loss: 0.6546, Accuracy: 77.29%\n",
      "[2] Test Loss: 0.5338, Accuracy: 80.96%\n",
      "[3] Test Loss: 0.4905, Accuracy: 82.32%\n",
      "[4] Test Loss: 0.4639, Accuracy: 83.10%\n",
      "[5] Test Loss: 0.4425, Accuracy: 83.81%\n",
      "[6] Test Loss: 0.4304, Accuracy: 84.60%\n",
      "[7] Test Loss: 0.4161, Accuracy: 84.96%\n",
      "[8] Test Loss: 0.4162, Accuracy: 84.76%\n",
      "[9] Test Loss: 0.3995, Accuracy: 85.61%\n",
      "[10] Test Loss: 0.3966, Accuracy: 85.43%\n",
      "[11] Test Loss: 0.3855, Accuracy: 85.98%\n",
      "[12] Test Loss: 0.3883, Accuracy: 85.92%\n",
      "[13] Test Loss: 0.3804, Accuracy: 86.30%\n",
      "[14] Test Loss: 0.3687, Accuracy: 86.65%\n",
      "[15] Test Loss: 0.3694, Accuracy: 86.63%\n",
      "[16] Test Loss: 0.3720, Accuracy: 86.36%\n",
      "[17] Test Loss: 0.3618, Accuracy: 86.88%\n",
      "[18] Test Loss: 0.3578, Accuracy: 86.96%\n",
      "[19] Test Loss: 0.3638, Accuracy: 86.82%\n",
      "[20] Test Loss: 0.3527, Accuracy: 87.49%\n",
      "[21] Test Loss: 0.3557, Accuracy: 87.15%\n",
      "[22] Test Loss: 0.3525, Accuracy: 86.91%\n",
      "[23] Test Loss: 0.3463, Accuracy: 87.52%\n",
      "[24] Test Loss: 0.3431, Accuracy: 87.65%\n",
      "[25] Test Loss: 0.3523, Accuracy: 86.95%\n",
      "[26] Test Loss: 0.3460, Accuracy: 87.27%\n",
      "[27] Test Loss: 0.3412, Accuracy: 87.74%\n",
      "[28] Test Loss: 0.3348, Accuracy: 87.80%\n",
      "[29] Test Loss: 0.3299, Accuracy: 88.15%\n",
      "[30] Test Loss: 0.3292, Accuracy: 88.08%\n",
      "[31] Test Loss: 0.3271, Accuracy: 88.19%\n",
      "[32] Test Loss: 0.3325, Accuracy: 87.84%\n",
      "[33] Test Loss: 0.3269, Accuracy: 88.27%\n",
      "[34] Test Loss: 0.3305, Accuracy: 88.05%\n",
      "[35] Test Loss: 0.3218, Accuracy: 88.43%\n",
      "[36] Test Loss: 0.3283, Accuracy: 88.17%\n",
      "[37] Test Loss: 0.3161, Accuracy: 88.74%\n",
      "[38] Test Loss: 0.3217, Accuracy: 88.41%\n",
      "[39] Test Loss: 0.3254, Accuracy: 88.01%\n",
      "[40] Test Loss: 0.3277, Accuracy: 88.26%\n",
      "[41] Test Loss: 0.3181, Accuracy: 88.57%\n",
      "[42] Test Loss: 0.3202, Accuracy: 88.37%\n",
      "[43] Test Loss: 0.3179, Accuracy: 88.66%\n",
      "[44] Test Loss: 0.3135, Accuracy: 88.67%\n",
      "[45] Test Loss: 0.3115, Accuracy: 88.83%\n",
      "[46] Test Loss: 0.3140, Accuracy: 88.65%\n",
      "[47] Test Loss: 0.3137, Accuracy: 88.61%\n",
      "[48] Test Loss: 0.3102, Accuracy: 88.84%\n",
      "[49] Test Loss: 0.3161, Accuracy: 88.86%\n",
      "[50] Test Loss: 0.3178, Accuracy: 88.40%\n"
     ]
    }
   ],
   "source": [
    "for epoch in range(1, EPOCHS + 1):\n",
    "    train(model, train_loader, optimizer)\n",
    "    test_loss, test_accuracy = evaluate(model, test_loader)\n",
    "    \n",
    "    print('[{}] Test Loss: {:.4f}, Accuracy: {:.2f}%'\n",
    "          .format(epoch, test_loss, test_accuracy))"
   ]
  }
 ],
 "metadata": {
  "kernelspec": {
   "display_name": "Python 3",
   "language": "python",
   "name": "python3"
  },
  "language_info": {
   "codemirror_mode": {
    "name": "ipython",
    "version": 3
   },
   "file_extension": ".py",
   "mimetype": "text/x-python",
   "name": "python",
   "nbconvert_exporter": "python",
   "pygments_lexer": "ipython3",
   "version": "3.6.5"
  }
 },
 "nbformat": 4,
 "nbformat_minor": 4
}
