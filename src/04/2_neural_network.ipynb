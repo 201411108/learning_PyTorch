{
 "cells": [
  {
   "cell_type": "code",
   "execution_count": 32,
   "metadata": {},
   "outputs": [],
   "source": [
    "import torch\n",
    "import torch.nn as nn\n",
    "import torch.optim as optim\n",
    "import torch.nn.functional as F\n",
    "from torchvision import transforms, datasets"
   ]
  },
  {
   "cell_type": "code",
   "execution_count": 33,
   "metadata": {},
   "outputs": [],
   "source": [
    "# CUDA, 실행 device setting\n",
    "USE_CUDA = torch.cuda.is_available()\n",
    "DEVICE = torch.device(\"cuda\" if USE_CUDA else \"cpu\")"
   ]
  },
  {
   "cell_type": "code",
   "execution_count": 34,
   "metadata": {},
   "outputs": [],
   "source": [
    "EPOCHS = 30\n",
    "BATCH_SIZE = 64"
   ]
  },
  {
   "cell_type": "code",
   "execution_count": 35,
   "metadata": {},
   "outputs": [],
   "source": [
    "# 이미지를 tensor로 바꿔주는 코드\n",
    "transform = transforms.Compose([\n",
    "    transforms.ToTensor()\n",
    "])"
   ]
  },
  {
   "cell_type": "code",
   "execution_count": 36,
   "metadata": {},
   "outputs": [],
   "source": [
    "# Fashion MNIST dataset download\n",
    "trainset = datasets.FashionMNIST(\n",
    "    root = './.data/',\n",
    "    train = True,\n",
    "    download = True,\n",
    "    transform = transform\n",
    ")\n",
    "testset = datasets.FashionMNIST(\n",
    "    root = './.data/',\n",
    "    train = False,\n",
    "    download = True,\n",
    "    transform = transform\n",
    ")"
   ]
  },
  {
   "cell_type": "code",
   "execution_count": 37,
   "metadata": {},
   "outputs": [],
   "source": [
    "train_loader = torch.utils.data.DataLoader(\n",
    "    dataset = trainset,\n",
    "    batch_size = BATCH_SIZE,\n",
    "    shuffle = True\n",
    ")\n",
    "test_loader = torch.utils.data.DataLoader(\n",
    "    dataset = testset,\n",
    "    batch_size = BATCH_SIZE,\n",
    "    shuffle = True\n",
    ")"
   ]
  },
  {
   "cell_type": "code",
   "execution_count": 38,
   "metadata": {},
   "outputs": [],
   "source": [
    "# ANN settings\n",
    "class Net(nn.Module):\n",
    "    def __init__(self):\n",
    "        super(Net, self).__init__()\n",
    "        self.fc1 = nn.Linear(784, 256)\n",
    "        self.fc2 = nn.Linear(256, 128)\n",
    "        self.fc3 = nn.Linear(128, 10)\n",
    "        \n",
    "    def forward(self, x):\n",
    "        # 1차원 행렬로 변환\n",
    "        x = x.view(-1, 784)\n",
    "        # 각 레이어를 거쳐 활성화 함수 실행, 다음 뉴런으로 진행\n",
    "        x = F.relu(self.fc1(x))\n",
    "        x = F.relu(self.fc2(x))\n",
    "        x = self.fc3(x)\n",
    "        return x"
   ]
  },
  {
   "cell_type": "code",
   "execution_count": 39,
   "metadata": {},
   "outputs": [],
   "source": [
    "# 설정한 실행 환경에 모델 선언\n",
    "model = Net().to(DEVICE)\n",
    "\n",
    "# 최적화 알고리즘 설정\n",
    "optimizer = optim.SGD(model.parameters(), lr = 0.01)"
   ]
  },
  {
   "cell_type": "code",
   "execution_count": 1,
   "metadata": {},
   "outputs": [],
   "source": [
    "# 학습 함수\n",
    "def train(model, train_loader, optimizer):\n",
    "    model.train()\n",
    "    \n",
    "    for batch_dix, (data, target) in enumerate(train_loader):\n",
    "        # 학습 데이터를 DEVICE의 메모리로 보냄\n",
    "        data, target = data.to(DEVICE), target.to(DEVICE)\n",
    "        \n",
    "        optimizer.zero_grad()\n",
    "        output = model(data)\n",
    "        # loss function 설정, loss 값을 저장하지 않을 때는 바로 functional에서 호출해서 사용 가능\n",
    "        loss = F.cross_entropy(output, target)\n",
    "        loss.backward()\n",
    "        optimizer.step()"
   ]
  },
  {
   "cell_type": "code",
   "execution_count": 41,
   "metadata": {},
   "outputs": [],
   "source": [
    "# 평가 함수 \n",
    "def evaluate(model, test_loader):\n",
    "    model.eval()\n",
    "    test_loss = 0\n",
    "    correct = 0 # 예측을 맞춘 수를 저장하기 위한 변수\n",
    "    \n",
    "    with torch.no_grad():\n",
    "        for data, target in test_loader:\n",
    "            data, target = data.to(DEVICE), target.to(DEVICE)\n",
    "            output = model(data)\n",
    "            \n",
    "            # 모든 오차 더하기\n",
    "            test_loss += F.cross_entropy(output, target, reduction='sum').item()\n",
    "            \n",
    "            # 가장 큰 값을 가진 클래스가 모델의 예측\n",
    "            # 예측과 정답을 비교하여 일치할 경우 correct에 1을 더한다.\n",
    "            pred = output.max(1, keepdim=True)[1]\n",
    "            correct += pred.eq(target.view_as(pred)).sum().item()\n",
    "            \n",
    "        # 정확도 측정\n",
    "        test_loss /= len(test_loader.dataset)\n",
    "        test_accuracy = 100. * correct / len(test_loader.dataset)\n",
    "        return test_loss, test_accuracy"
   ]
  },
  {
   "cell_type": "code",
   "execution_count": 42,
   "metadata": {},
   "outputs": [
    {
     "name": "stdout",
     "output_type": "stream",
     "text": [
      "[1] Test Loss: 0.8370, Accuracy: 69.18%\n",
      "[2] Test Loss: 0.6653, Accuracy: 77.01%\n",
      "[3] Test Loss: 0.5853, Accuracy: 79.39%\n",
      "[4] Test Loss: 0.5385, Accuracy: 80.99%\n",
      "[5] Test Loss: 0.5120, Accuracy: 81.86%\n",
      "[6] Test Loss: 0.5016, Accuracy: 82.51%\n",
      "[7] Test Loss: 0.4926, Accuracy: 82.65%\n",
      "[8] Test Loss: 0.5083, Accuracy: 82.10%\n",
      "[9] Test Loss: 0.4723, Accuracy: 83.56%\n",
      "[10] Test Loss: 0.4740, Accuracy: 82.80%\n",
      "[11] Test Loss: 0.5268, Accuracy: 81.75%\n",
      "[12] Test Loss: 0.4592, Accuracy: 83.80%\n",
      "[13] Test Loss: 0.4349, Accuracy: 84.67%\n",
      "[14] Test Loss: 0.4388, Accuracy: 84.55%\n",
      "[15] Test Loss: 0.4522, Accuracy: 84.18%\n",
      "[16] Test Loss: 0.4230, Accuracy: 85.06%\n",
      "[17] Test Loss: 0.4179, Accuracy: 85.13%\n",
      "[18] Test Loss: 0.4172, Accuracy: 85.44%\n",
      "[19] Test Loss: 0.3992, Accuracy: 85.94%\n",
      "[20] Test Loss: 0.4119, Accuracy: 85.47%\n",
      "[21] Test Loss: 0.4089, Accuracy: 85.67%\n",
      "[22] Test Loss: 0.4369, Accuracy: 84.23%\n",
      "[23] Test Loss: 0.3853, Accuracy: 86.49%\n",
      "[24] Test Loss: 0.4095, Accuracy: 85.49%\n",
      "[25] Test Loss: 0.3847, Accuracy: 86.53%\n",
      "[26] Test Loss: 0.3960, Accuracy: 85.58%\n",
      "[27] Test Loss: 0.3914, Accuracy: 86.28%\n",
      "[28] Test Loss: 0.3827, Accuracy: 86.34%\n",
      "[29] Test Loss: 0.3852, Accuracy: 86.27%\n",
      "[30] Test Loss: 0.3939, Accuracy: 85.92%\n"
     ]
    }
   ],
   "source": [
    "for epoch in range(1, EPOCHS + 1):\n",
    "    train(model, train_loader, optimizer)\n",
    "    test_loss, test_accuracy = evaluate(model, test_loader)\n",
    "    \n",
    "    print('[{}] Test Loss: {:.4f}, Accuracy: {:.2f}%'\n",
    "          .format(epoch, test_loss, test_accuracy))"
   ]
  }
 ],
 "metadata": {
  "kernelspec": {
   "display_name": "Python 3",
   "language": "python",
   "name": "python3"
  },
  "language_info": {
   "codemirror_mode": {
    "name": "ipython",
    "version": 3
   },
   "file_extension": ".py",
   "mimetype": "text/x-python",
   "name": "python",
   "nbconvert_exporter": "python",
   "pygments_lexer": "ipython3",
   "version": "3.6.5"
  }
 },
 "nbformat": 4,
 "nbformat_minor": 4
}
