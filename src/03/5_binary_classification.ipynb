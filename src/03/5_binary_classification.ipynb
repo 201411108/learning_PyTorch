{
 "cells": [
  {
   "cell_type": "code",
   "execution_count": 1,
   "metadata": {},
   "outputs": [],
   "source": [
    "import torch\n",
    "import numpy\n",
    "from sklearn.datasets import make_blobs\n",
    "import matplotlib.pyplot as plt\n",
    "import torch.nn.functional as F"
   ]
  },
  {
   "cell_type": "code",
   "execution_count": 2,
   "metadata": {},
   "outputs": [],
   "source": [
    "# create datasets\n",
    "n_dim = 2 # feature의 수\n",
    "# x_train : 좌표, y_train : 어느 영역에 속하는지 정보(0, 1, 2, 3)\n",
    "x_train, y_train = make_blobs(n_samples=80, n_features=n_dim,\n",
    "                              centers=[[1, 1], [-1, -1], [1, -1], [-1, 1]],\n",
    "                              shuffle=True, cluster_std=0.3)\n",
    "x_test, y_test = make_blobs(n_samples=20, n_features=n_dim,\n",
    "                            centers=[[1, 1], [-1, -1], [1, -1], [-1, 1]],\n",
    "                            shuffle=True, cluster_std=0.3)"
   ]
  },
  {
   "cell_type": "code",
   "execution_count": 3,
   "metadata": {},
   "outputs": [],
   "source": [
    "# 0, 1 -> 0 / 2, 3 -> 1\n",
    "# 두 가지만 예측할 수 있는 간단한 모델로 수정(Binary classification)\n",
    "# BCELoss를 사용\n",
    "def label_map(y_, from_, to_):\n",
    "    y = numpy.copy(y_)\n",
    "    for f in from_:\n",
    "        y[y_ == f] = to_\n",
    "    return y\n",
    "\n",
    "y_train = label_map(y_train, [0, 1], 0)\n",
    "y_train = label_map(y_train, [2, 3], 1)\n",
    "y_test = label_map(y_test, [0, 1], 0)\n",
    "y_test = label_map(y_test, [2, 3], 1)"
   ]
  },
  {
   "cell_type": "code",
   "execution_count": 4,
   "metadata": {},
   "outputs": [
    {
     "data": {
      "image/png": "[encoded data removed]",
      "text/plain": [
       "<Figure size 432x288 with 1 Axes>"
      ]
     },
     "metadata": {
      "needs_background": "light"
     },
     "output_type": "display_data"
    }
   ],
   "source": [
    "# 데이터 분포 확인\n",
    "# (x, y) -> data, {0, 1, 2, 3} -> label\n",
    "def vis_data(x, y = None, c = 'r'):\n",
    "    if y is None:\n",
    "        y = [None] * len(y)\n",
    "    for x_, y_ in zip(x, y):\n",
    "        if y_ is None:\n",
    "            plt.plot(x_[0], x_[1], '*', markerfacecolor = 'none',\n",
    "                     markeredgecolor = c)\n",
    "        else:\n",
    "            plt.plot(x_[0], x_[1], c+'o' if y_ == 0 else c+'+')\n",
    " \n",
    "plt.figure()\n",
    "vis_data(x_train, y_train)\n",
    "plt.show()"
   ]
  },
  {
   "cell_type": "code",
   "execution_count": 6,
   "metadata": {},
   "outputs": [],
   "source": [
    "# 학습을 위해 텐서에 해당 정보를 넣는다.\n",
    "x_train = torch.FloatTensor(x_train)\n",
    "x_test = torch.FloatTensor(x_test)\n",
    "y_train = torch.FloatTensor(y_train)\n",
    "y_test = torch.FloatTensor(y_test)"
   ]
  },
  {
   "cell_type": "code",
   "execution_count": 8,
   "metadata": {},
   "outputs": [],
   "source": [
    "# 신경망 모델 구현\n",
    "class NeuralNet(torch.nn.Module):\n",
    "    def __init__(self, input_size, hidden_size):\n",
    "        super(NeuralNet, self).__init__() # nn.Module 초기화\n",
    "        # input_size : 입력 데이터의 차원\n",
    "        self.input_size = input_size\n",
    "        self.hidden_size = hidden_size\n",
    "        \n",
    "        # 신경망을 거치는 연산 정의\n",
    "        self.linear_1 = torch.nn.Linear(self.input_size, self.hidden_size)\n",
    "        self.relu = torch.nn.ReLU()\n",
    "        self.linear_2 = torch.nn.Linear(self.hidden_size, 1)\n",
    "        self.sigmoid = torch.nn.Sigmoid()\n",
    "    \n",
    "    # 학습 진행을 표현한 함수\n",
    "    # 학습 진행할 때 자동으로 실행된다.\n",
    "    def forward(self, input_tensor):\n",
    "        linear1 = self.linear_1(input_tensor)\n",
    "        relu = self.relu(linear1)\n",
    "        linear2 = self.linear_2(relu)\n",
    "        output = self.sigmoid(linear2)\n",
    "        return output"
   ]
  },
  {
   "cell_type": "code",
   "execution_count": 9,
   "metadata": {},
   "outputs": [],
   "source": [
    "# 신경망 객체 생성, 학습률, 오차 함수, epoch, 최적화 함수 설정\n",
    "model = NeuralNet(2, 5)\n",
    "learning_rate = 0.03\n",
    "criterion = torch.nn.BCELoss()\n",
    "epochs = 2000\n",
    "optimizer = torch.optim.SGD(model.parameters(), lr = learning_rate)"
   ]
  },
  {
   "cell_type": "code",
   "execution_count": 10,
   "metadata": {},
   "outputs": [
    {
     "name": "stdout",
     "output_type": "stream",
     "text": [
      "Before training, test loss is 0.7263379693031311\n"
     ]
    }
   ],
   "source": [
    "# 학습 이전의 모델 성능 평가\n",
    "model.eval()\n",
    "test_loss_before = criterion(model(x_test).squeeze(), y_test)\n",
    "print('Before training, test loss is {}'.format(test_loss_before.item()))"
   ]
  },
  {
   "cell_type": "code",
   "execution_count": 11,
   "metadata": {},
   "outputs": [
    {
     "name": "stdout",
     "output_type": "stream",
     "text": [
      "Train loss at 0 is 0.7462173700332642\n",
      "Train loss at 100 is 0.6774662733078003\n",
      "Train loss at 200 is 0.6377118229866028\n",
      "Train loss at 300 is 0.5950856804847717\n",
      "Train loss at 400 is 0.5310377478599548\n",
      "Train loss at 500 is 0.44386690855026245\n",
      "Train loss at 600 is 0.358023464679718\n",
      "Train loss at 700 is 0.28529849648475647\n",
      "Train loss at 800 is 0.2275383174419403\n",
      "Train loss at 900 is 0.18309877812862396\n",
      "Train loss at 1000 is 0.1492544710636139\n",
      "Train loss at 1100 is 0.12350460141897202\n",
      "Train loss at 1200 is 0.10388760268688202\n",
      "Train loss at 1300 is 0.08868918567895889\n",
      "Train loss at 1400 is 0.07674073427915573\n",
      "Train loss at 1500 is 0.0671815276145935\n",
      "Train loss at 1600 is 0.05942470580339432\n",
      "Train loss at 1700 is 0.053072065114974976\n",
      "Train loss at 1800 is 0.04778430983424187\n",
      "Train loss at 1900 is 0.043319568037986755\n"
     ]
    }
   ],
   "source": [
    "# 학습\n",
    "for epoch in range(epochs):\n",
    "    model.train() # forward()함수 자동 호출\n",
    "    optimizer.zero_grad() # 학습마다 새로운 경사값 갱신\n",
    "    \n",
    "    train_output = model(x_train)\n",
    "    train_loss = criterion(train_output.squeeze(), y_train)\n",
    "    \n",
    "    if epoch % 100 == 0:\n",
    "        print('Train loss at {} is {}'.format(epoch, train_loss.item()))\n",
    "        \n",
    "    # Backpropagation    \n",
    "    train_loss.backward()\n",
    "    optimizer.step()"
   ]
  },
  {
   "cell_type": "code",
   "execution_count": 12,
   "metadata": {},
   "outputs": [
    {
     "name": "stdout",
     "output_type": "stream",
     "text": [
      "After training, test loss is 0.06870509684085846\n"
     ]
    }
   ],
   "source": [
    "model.eval()\n",
    "test_loss_before = criterion(torch.squeeze(model(x_test)), y_test)\n",
    "print('After training, test loss is {}'.format(test_loss_before.item()))"
   ]
  },
  {
   "cell_type": "code",
   "execution_count": 13,
   "metadata": {},
   "outputs": [
    {
     "name": "stdout",
     "output_type": "stream",
     "text": [
      "state_dict format of the model: OrderedDict([('linear_1.weight', tensor([[-1.8323,  1.8478],\n",
      "        [-0.6920, -0.0156],\n",
      "        [ 1.8519, -1.4874],\n",
      "        [ 0.1995,  0.4969],\n",
      "        [ 0.9331,  0.9331]])), ('linear_1.bias', tensor([-0.5335,  1.3182, -0.2653, -0.3909,  0.0284])), ('linear_2.weight', tensor([[ 2.6237, -1.3637,  2.3283, -0.2227, -1.2206]])), ('linear_2.bias', tensor([-1.4508]))])\n"
     ]
    }
   ],
   "source": [
    "# save the mode\n",
    "torch.save(model.state_dict(), './model.pt')\n",
    "print('state_dict format of the model: {}'.format(model.state_dict()))"
   ]
  },
  {
   "cell_type": "code",
   "execution_count": 14,
   "metadata": {},
   "outputs": [
    {
     "name": "stdout",
     "output_type": "stream",
     "text": [
      "벡터 [-1, 1]이 레이블 1을 가질 확률은 0.9828837513923645\n"
     ]
    }
   ],
   "source": [
    "# 저장된 모델 활용\n",
    "new_model = NeuralNet(2, 5)\n",
    "new_model.load_state_dict(torch.load('./model.pt'))\n",
    "\n",
    "new_model.eval()\n",
    "print('벡터 [-1, 1]이 레이블 1을 가질 확률은 {}'.format(new_model(torch.FloatTensor([-1, 1])).item()))"
   ]
  }
 ],
 "metadata": {
  "kernelspec": {
   "display_name": "Python 3",
   "language": "python",
   "name": "python3"
  },
  "language_info": {
   "codemirror_mode": {
    "name": "ipython",
    "version": 3
   },
   "file_extension": ".py",
   "mimetype": "text/x-python",
   "name": "python",
   "nbconvert_exporter": "python",
   "pygments_lexer": "ipython3",
   "version": "3.6.5"
  }
 },
 "nbformat": 4,
 "nbformat_minor": 4
}
