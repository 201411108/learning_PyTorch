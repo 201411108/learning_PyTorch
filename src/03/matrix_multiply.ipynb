{
 "cells": [
  {
   "cell_type": "code",
   "execution_count": 1,
   "metadata": {},
   "outputs": [],
   "source": [
    "import torch"
   ]
  },
  {
   "cell_type": "code",
   "execution_count": 3,
   "metadata": {},
   "outputs": [
    {
     "name": "stdout",
     "output_type": "stream",
     "text": [
      "w size: torch.Size([5, 3])\n",
      "x size: torch.Size([3, 2])\n",
      "w: tensor([[ 0.8859, -0.3803,  0.7811],\n",
      "        [ 0.9775, -0.6090,  0.0417],\n",
      "        [ 0.3631, -0.9657, -0.1403],\n",
      "        [-0.8319,  1.3128,  0.1821],\n",
      "        [-0.0705,  0.2025,  1.0818]])\n",
      "x: tensor([[1., 2.],\n",
      "        [3., 4.],\n",
      "        [5., 6.]])\n"
     ]
    }
   ],
   "source": [
    "w = torch.randn(5, 3, dtype=torch.float) # 5 * 3, float\n",
    "x = torch.tensor([[1.0, 2.0], [3.0, 4.0], [5.0, 6.0]]) # 3 * 2\n",
    "\n",
    "print(\"w size:\", w.size())\n",
    "print(\"x size:\", x.size())\n",
    "print(\"w:\", w)\n",
    "print(\"x:\", x)"
   ]
  },
  {
   "cell_type": "code",
   "execution_count": 5,
   "metadata": {},
   "outputs": [
    {
     "name": "stdout",
     "output_type": "stream",
     "text": [
      "b size: torch.Size([5, 2])\n",
      "b: tensor([[-0.8780,  2.4232],\n",
      "        [-0.6037,  1.4942],\n",
      "        [ 1.3954,  1.6254],\n",
      "        [ 0.2569,  0.1325],\n",
      "        [-1.9444,  2.3686]])\n"
     ]
    }
   ],
   "source": [
    "b = torch.randn(5, 2, dtype=torch.float)\n",
    "print(\"b size:\", b.size())\n",
    "print(\"b:\", b)"
   ]
  },
  {
   "cell_type": "code",
   "execution_count": 8,
   "metadata": {},
   "outputs": [
    {
     "name": "stdout",
     "output_type": "stream",
     "text": [
      "wx size: torch.Size([5, 2])\n",
      "wx: tensor([[ 3.6505,  4.9372],\n",
      "        [-0.6411, -0.2310],\n",
      "        [-3.2358, -3.9788],\n",
      "        [ 4.0171,  4.6801],\n",
      "        [ 5.9461,  7.1599]])\n"
     ]
    }
   ],
   "source": [
    "# 행렬곱은 mm 함수 사용\n",
    "wx = torch.mm(w, x)\n",
    "print(\"wx size:\", wx.size())\n",
    "print(\"wx:\", wx)"
   ]
  },
  {
   "cell_type": "code",
   "execution_count": 9,
   "metadata": {},
   "outputs": [
    {
     "name": "stdout",
     "output_type": "stream",
     "text": [
      "result size: torch.Size([5, 2])\n",
      "result: tensor([[ 2.7725,  7.3603],\n",
      "        [-1.2448,  1.2632],\n",
      "        [-1.8404, -2.3534],\n",
      "        [ 4.2740,  4.8126],\n",
      "        [ 4.0017,  9.5285]])\n"
     ]
    }
   ],
   "source": [
    "result = wx + b\n",
    "print(\"result size:\", result.size())\n",
    "print(\"result:\", result)"
   ]
  }
 ],
 "metadata": {
  "kernelspec": {
   "display_name": "Python 3",
   "language": "python",
   "name": "python3"
  },
  "language_info": {
   "codemirror_mode": {
    "name": "ipython",
    "version": 3
   },
   "file_extension": ".py",
   "mimetype": "text/x-python",
   "name": "python",
   "nbconvert_exporter": "python",
   "pygments_lexer": "ipython3",
   "version": "3.6.5"
  }
 },
 "nbformat": 4,
 "nbformat_minor": 4
}
