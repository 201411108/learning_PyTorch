{
 "cells": [
  {
   "cell_type": "code",
   "execution_count": 1,
   "metadata": {},
   "outputs": [],
   "source": [
    "import torch"
   ]
  },
  {
   "cell_type": "code",
   "execution_count": 21,
   "metadata": {
    "scrolled": false
   },
   "outputs": [
    {
     "name": "stdout",
     "output_type": "stream",
     "text": [
      "tensor([[1, 2, 3],\n",
      "        [4, 5, 6],\n",
      "        [7, 8, 9]])\n"
     ]
    }
   ],
   "source": [
    "# 0차원(rank) 텐서 -> 스칼라\n",
    "# 1차원 텐서 -> 벡터\n",
    "# 2차원 텐서 -> 매트릭스\n",
    "# 3차원 이상 텐서 -> n차원 텐서\n",
    "x = torch.tensor([[1, 2, 3], [4, 5, 6], [7, 8, 9]])\n",
    "print(x)"
   ]
  },
  {
   "cell_type": "code",
   "execution_count": 22,
   "metadata": {
    "scrolled": true
   },
   "outputs": [
    {
     "name": "stdout",
     "output_type": "stream",
     "text": [
      "Size: torch.Size([3, 3])\n",
      "Shape: torch.Size([3, 3])\n",
      "rank(dimension): 2\n"
     ]
    }
   ],
   "source": [
    "# 텐서의 size, shape, ndimension\n",
    "print(\"Size:\", x.size())\n",
    "print(\"Shape:\", x.shape)\n",
    "print(\"rank(dimension):\", x.ndimension())"
   ]
  },
  {
   "cell_type": "code",
   "execution_count": 23,
   "metadata": {},
   "outputs": [
    {
     "name": "stdout",
     "output_type": "stream",
     "text": [
      "tensor([[[1, 2, 3]],\n",
      "\n",
      "        [[4, 5, 6]],\n",
      "\n",
      "        [[7, 8, 9]]])\n",
      "Size: torch.Size([3, 1, 3])\n",
      "rank: 3\n"
     ]
    }
   ],
   "source": [
    "# unsqueeze(), tensor의 랭크 증가\n",
    "x = torch.unsqueeze(x, 0) # index에 따라서 Size의 index에 rank가 추가된다.\n",
    "print(x)\n",
    "print(\"Size:\", x.size()) # [3, 3] -> [1, 3, 3](index = 0), [3, 3] -> [3, 1, 3](index = 1)\n",
    "print(\"rank:\", x.ndimension())"
   ]
  },
  {
   "cell_type": "code",
   "execution_count": 24,
   "metadata": {},
   "outputs": [
    {
     "name": "stdout",
     "output_type": "stream",
     "text": [
      "tensor([[1, 2, 3],\n",
      "        [4, 5, 6],\n",
      "        [7, 8, 9]])\n",
      "Size: torch.Size([3, 3])\n",
      "rank: 2\n"
     ]
    }
   ],
   "source": [
    "# squeeze(), tensor의 랭크 감소\n",
    "x = torch.squeeze(x) # size/shape 중 1인 index를 제거\n",
    "print(x)\n",
    "print(\"Size:\", x.shape)\n",
    "print(\"rank:\", x.ndimension())"
   ]
  },
  {
   "cell_type": "code",
   "execution_count": 30,
   "metadata": {},
   "outputs": [
    {
     "name": "stdout",
     "output_type": "stream",
     "text": [
      "tensor([1, 2, 3, 4, 5, 6, 7, 8, 9])\n",
      "Size: torch.Size([9])\n",
      "rank: 1\n"
     ]
    }
   ],
   "source": [
    "# view(), rank 변경 및 tensor의 모양 변경 가능\n",
    "x = x.view(9)\n",
    "print(x)\n",
    "print(\"Size:\", x.size())\n",
    "print(\"rank:\", x.ndimension())"
   ]
  },
  {
   "cell_type": "code",
   "execution_count": 31,
   "metadata": {},
   "outputs": [
    {
     "name": "stdout",
     "output_type": "stream",
     "text": [
      "shape '[2, 4]' is invalid for input of size 9\n"
     ]
    }
   ],
   "source": [
    "# unsqueeze, squeeze, view는 tensor가 포함하고 있는 원소의 수를 유지해야 한다.\n",
    "try:\n",
    "    x = x.view(2,4)\n",
    "except Exception as e:\n",
    "    print(e)"
   ]
  }
 ],
 "metadata": {
  "kernelspec": {
   "display_name": "Python 3",
   "language": "python",
   "name": "python3"
  },
  "language_info": {
   "codemirror_mode": {
    "name": "ipython",
    "version": 3
   },
   "file_extension": ".py",
   "mimetype": "text/x-python",
   "name": "python",
   "nbconvert_exporter": "python",
   "pygments_lexer": "ipython3",
   "version": "3.6.5"
  }
 },
 "nbformat": 4,
 "nbformat_minor": 4
}
