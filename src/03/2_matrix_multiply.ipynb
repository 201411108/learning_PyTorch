{
 "cells": [
  {
   "cell_type": "code",
   "execution_count": 2,
   "metadata": {},
   "outputs": [],
   "source": [
    "import torch"
   ]
  },
  {
   "cell_type": "code",
   "execution_count": 3,
   "metadata": {},
   "outputs": [
    {
     "name": "stdout",
     "output_type": "stream",
     "text": [
      "w size: torch.Size([5, 3])\n",
      "x size: torch.Size([3, 2])\n",
      "w: tensor([[-1.4175, -0.8168,  1.1524],\n",
      "        [-1.2813, -0.1928,  0.2669],\n",
      "        [-1.3991,  2.2395,  0.2045],\n",
      "        [-0.2268,  1.8800,  2.3087],\n",
      "        [-0.9954,  1.2822,  0.8756]])\n",
      "x: tensor([[1., 2.],\n",
      "        [3., 4.],\n",
      "        [5., 6.]])\n"
     ]
    }
   ],
   "source": [
    "# torch.randn : 정규 분포로부터 값을 랜덤하게 뽑아 matrix 생성\n",
    "w = torch.randn(5, 3, dtype=torch.float) # 5 * 3, float\n",
    "x = torch.tensor([[1.0, 2.0], [3.0, 4.0], [5.0, 6.0]]) # 3 * 2\n",
    "\n",
    "print(\"w size:\", w.size())\n",
    "print(\"x size:\", x.size())\n",
    "print(\"w:\", w)\n",
    "print(\"x:\", x)"
   ]
  },
  {
   "cell_type": "code",
   "execution_count": 4,
   "metadata": {},
   "outputs": [
    {
     "name": "stdout",
     "output_type": "stream",
     "text": [
      "b size: torch.Size([5, 2])\n",
      "b: tensor([[ 0.0110,  1.1041],\n",
      "        [-0.0739,  0.3943],\n",
      "        [ 0.4306, -0.6850],\n",
      "        [ 1.3682, -0.8669],\n",
      "        [-1.2447, -0.3713]])\n"
     ]
    }
   ],
   "source": [
    "b = torch.randn(5, 2, dtype=torch.float)\n",
    "print(\"b size:\", b.size())\n",
    "print(\"b:\", b)"
   ]
  },
  {
   "cell_type": "code",
   "execution_count": 5,
   "metadata": {},
   "outputs": [
    {
     "name": "stdout",
     "output_type": "stream",
     "text": [
      "wx size: torch.Size([5, 2])\n",
      "wx: tensor([[ 1.8941,  0.8122],\n",
      "        [-0.5250, -1.7321],\n",
      "        [ 6.3418,  7.3866],\n",
      "        [16.9568, 20.9188],\n",
      "        [ 7.2293,  8.3917]])\n"
     ]
    }
   ],
   "source": [
    "# 행렬곱은 mm 함수 사용\n",
    "wx = torch.mm(w, x)\n",
    "print(\"wx size:\", wx.size())\n",
    "print(\"wx:\", wx)"
   ]
  },
  {
   "cell_type": "code",
   "execution_count": 7,
   "metadata": {},
   "outputs": [
    {
     "name": "stdout",
     "output_type": "stream",
     "text": [
      "result size: torch.Size([5, 2])\n",
      "result: tensor([[ 1.9052,  1.9162],\n",
      "        [-0.5989, -1.3378],\n",
      "        [ 6.7724,  6.7017],\n",
      "        [18.3251, 20.0519],\n",
      "        [ 5.9845,  8.0204]])\n"
     ]
    }
   ],
   "source": [
    "# 행렬 간 덧셈은 같은 형태일 때 가능\n",
    "result = wx + b\n",
    "print(\"result size:\", result.size())\n",
    "print(\"result:\", result)"
   ]
  }
 ],
 "metadata": {
  "kernelspec": {
   "display_name": "Python 3",
   "language": "python",
   "name": "python3"
  },
  "language_info": {
   "codemirror_mode": {
    "name": "ipython",
    "version": 3
   },
   "file_extension": ".py",
   "mimetype": "text/x-python",
   "name": "python",
   "nbconvert_exporter": "python",
   "pygments_lexer": "ipython3",
   "version": "3.6.5"
  }
 },
 "nbformat": 4,
 "nbformat_minor": 4
}
