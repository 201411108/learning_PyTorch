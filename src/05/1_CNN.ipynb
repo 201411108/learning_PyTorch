{
 "cells": [
  {
   "cell_type": "code",
   "execution_count": 1,
   "metadata": {},
   "outputs": [],
   "source": [
    "import torch\n",
    "import torch.nn as nn\n",
    "import torch.optim as optim\n",
    "import torch.nn.functional as F\n",
    "from torchvision import transforms, datasets"
   ]
  },
  {
   "cell_type": "code",
   "execution_count": 2,
   "metadata": {},
   "outputs": [],
   "source": [
    "# CUDA settings\n",
    "USE_CUDA = torch.cuda.is_available()\n",
    "device = torch.device(\"cuda\" if USE_CUDA else \"cpu\")"
   ]
  },
  {
   "cell_type": "code",
   "execution_count": 3,
   "metadata": {},
   "outputs": [],
   "source": [
    "# Hyperparameters\n",
    "EPOCHS = 40\n",
    "BATCH_SIZE = 64"
   ]
  },
  {
   "cell_type": "code",
   "execution_count": 4,
   "metadata": {},
   "outputs": [
    {
     "name": "stderr",
     "output_type": "stream",
     "text": [
      "\r",
      "0it [00:00, ?it/s]"
     ]
    },
    {
     "name": "stdout",
     "output_type": "stream",
     "text": [
      "Downloading http://fashion-mnist.s3-website.eu-central-1.amazonaws.com/train-images-idx3-ubyte.gz to ./.data/FashionMNIST/raw/train-images-idx3-ubyte.gz\n"
     ]
    },
    {
     "name": "stderr",
     "output_type": "stream",
     "text": [
      "100%|█████████▉| 26419200/26421880 [00:40<00:00, 679940.09it/s]"
     ]
    },
    {
     "name": "stdout",
     "output_type": "stream",
     "text": [
      "Extracting ./.data/FashionMNIST/raw/train-images-idx3-ubyte.gz to ./.data/FashionMNIST/raw\n"
     ]
    },
    {
     "name": "stderr",
     "output_type": "stream",
     "text": [
      "\n",
      "0it [00:00, ?it/s]\u001b[A"
     ]
    },
    {
     "name": "stdout",
     "output_type": "stream",
     "text": [
      "Downloading http://fashion-mnist.s3-website.eu-central-1.amazonaws.com/train-labels-idx1-ubyte.gz to ./.data/FashionMNIST/raw/train-labels-idx1-ubyte.gz\n"
     ]
    },
    {
     "name": "stderr",
     "output_type": "stream",
     "text": [
      "\n",
      "32768it [00:00, 40814.72it/s]            \u001b[A\n",
      "\n",
      "0it [00:00, ?it/s]\u001b[A"
     ]
    },
    {
     "name": "stdout",
     "output_type": "stream",
     "text": [
      "Extracting ./.data/FashionMNIST/raw/train-labels-idx1-ubyte.gz to ./.data/FashionMNIST/raw\n",
      "Downloading http://fashion-mnist.s3-website.eu-central-1.amazonaws.com/t10k-images-idx3-ubyte.gz to ./.data/FashionMNIST/raw/t10k-images-idx3-ubyte.gz\n"
     ]
    },
    {
     "name": "stderr",
     "output_type": "stream",
     "text": [
      "\n",
      "4423680it [00:07, 568065.55it/s]           \u001b[A\n",
      "\n",
      "0it [00:00, ?it/s]\u001b[A"
     ]
    },
    {
     "name": "stdout",
     "output_type": "stream",
     "text": [
      "Extracting ./.data/FashionMNIST/raw/t10k-images-idx3-ubyte.gz to ./.data/FashionMNIST/raw\n",
      "Downloading http://fashion-mnist.s3-website.eu-central-1.amazonaws.com/t10k-labels-idx1-ubyte.gz to ./.data/FashionMNIST/raw/t10k-labels-idx1-ubyte.gz\n"
     ]
    },
    {
     "name": "stderr",
     "output_type": "stream",
     "text": [
      "\n",
      "8192it [00:00, 13600.99it/s]            \u001b[A"
     ]
    },
    {
     "name": "stdout",
     "output_type": "stream",
     "text": [
      "Extracting ./.data/FashionMNIST/raw/t10k-labels-idx1-ubyte.gz to ./.data/FashionMNIST/raw\n",
      "Processing...\n",
      "Done!\n"
     ]
    },
    {
     "name": "stderr",
     "output_type": "stream",
     "text": [
      "\n",
      "26427392it [01:00, 679940.09it/s]                              "
     ]
    }
   ],
   "source": [
    "# load datasets\n",
    "train_loader = torch.utils.data.DataLoader(\n",
    "    datasets.FashionMNIST('./.data',\n",
    "                          train=True,\n",
    "                          download=True,\n",
    "                          transform=transforms.Compose([\n",
    "                              transforms.ToTensor(),\n",
    "                              transforms.Normalize((0.1307, ), (0.3081, ))\n",
    "                          ])\n",
    "                         ),\n",
    "    batch_size = BATCH_SIZE,\n",
    "    shuffle = True\n",
    ")\n",
    "\n",
    "test_loader = torch.utils.data.DataLoader(\n",
    "    datasets.FashionMNIST('./.data',\n",
    "                          train=False,\n",
    "                          download=True,\n",
    "                          transform=transforms.Compose([\n",
    "                              transforms.ToTensor(),\n",
    "                              transforms.Normalize((0.1307, ), (0.3081, ))\n",
    "                          ])\n",
    "                         ),\n",
    "    batch_size = BATCH_SIZE,\n",
    "    shuffle = True\n",
    ")"
   ]
  },
  {
   "cell_type": "code",
   "execution_count": 13,
   "metadata": {},
   "outputs": [],
   "source": [
    "# Construct CNN networks\n",
    "class Net(nn.Module):\n",
    "    def __init__(self):\n",
    "        super(Net, self).__init__()\n",
    "        # Convolutional layers\n",
    "        self.conv1 = nn.Conv2d(1, 10, kernel_size = 5)\n",
    "        self.conv2 = nn.Conv2d(10, 20, kernel_size = 5)\n",
    "        # dropout the results of conv2\n",
    "        self.drop = nn.Dropout2d()\n",
    "        \n",
    "        # ANN, hidden layers\n",
    "        self.fc1 = nn.Linear(320, 50) # 320, 앞 계층의 출력 채널\n",
    "        self.fc2 = nn.Linear(50, 10)\n",
    "        \n",
    "    def forward(self, x):\n",
    "        x = F.relu(F.max_pool2d(self.conv1(x), 2))\n",
    "        x = F.relu(F.max_pool2d(self.drop(self.conv2(x)), 2))\n",
    "        \n",
    "        # ANN에서는 1차원 입력이 필요함, 차원 축소\n",
    "        x = x.view(-1, 320)\n",
    "        \n",
    "        x = F.relu(self.fc1(x))\n",
    "        x = F.dropout(x, training=self.training)\n",
    "        x = self.fc2(x)\n",
    "        \n",
    "        # softmax 함수를 활용한 다중 분류\n",
    "        return F.log_softmax(x, dim = 1)"
   ]
  },
  {
   "cell_type": "code",
   "execution_count": 14,
   "metadata": {},
   "outputs": [],
   "source": [
    "model = Net().to(device)\n",
    "optimizer = optim.SGD(model.parameters(), lr = 0.01, momentum = 0.5)"
   ]
  },
  {
   "cell_type": "code",
   "execution_count": 15,
   "metadata": {},
   "outputs": [],
   "source": [
    "# train\n",
    "def train(model, train_loader, optimizer, epoch):\n",
    "    model.train()\n",
    "    for batch_idx, (data, target) in enumerate(train_loader):\n",
    "        data, target = data.to(device), target.to(device)\n",
    "        optimizer.zero_grad()\n",
    "        output = model(data)\n",
    "        loss = F.cross_entropy(output, target)\n",
    "        loss.backward()\n",
    "        optimizer.step()\n",
    "        \n",
    "        if batch_idx % 200 == 0:\n",
    "            print('Train epoch: {} [{}/{} ({:.0f}%)]\\tLoss: {:.6f}'\n",
    "                  .format(epoch, batch_idx * len(data), len(train_loader.dataset),\n",
    "                          100. * batch_idx / len(train_loader), loss.item()))"
   ]
  },
  {
   "cell_type": "code",
   "execution_count": 18,
   "metadata": {},
   "outputs": [],
   "source": [
    "# test\n",
    "def test(model, test_loader):\n",
    "    model.eval()\n",
    "    test_loss = 0\n",
    "    correct = 0\n",
    "    with torch.no_grad():\n",
    "        for data, target in test_loader:\n",
    "            data, target = data.to(device), target.to(device)\n",
    "            output = model(data)\n",
    "            \n",
    "            test_loss += F.cross_entropy(output, target, reduction='sum').item()\n",
    "            \n",
    "            pred = output.max(1, keepdim=True)[1]\n",
    "            correct += pred.eq(target.view_as(pred)).sum().item()\n",
    "            \n",
    "        test_loss /= len(test_loader.dataset)\n",
    "        test_accuracy = 100. * correct / len(test_loader.dataset)\n",
    "        return test_loss, test_accuracy"
   ]
  },
  {
   "cell_type": "code",
   "execution_count": 19,
   "metadata": {},
   "outputs": [
    {
     "name": "stdout",
     "output_type": "stream",
     "text": [
      "Train epoch: 1 [0/60000 (0%)]\tLoss: 0.948279\n",
      "Train epoch: 1 [12800/60000 (21%)]\tLoss: 0.708847\n",
      "Train epoch: 1 [25600/60000 (43%)]\tLoss: 0.700645\n",
      "Train epoch: 1 [38400/60000 (64%)]\tLoss: 0.870655\n",
      "Train epoch: 1 [51200/60000 (85%)]\tLoss: 0.705785\n",
      "[1] Test Loss: 0.5868, Accuracy: 76.57%\n",
      "Train epoch: 2 [0/60000 (0%)]\tLoss: 0.901701\n",
      "Train epoch: 2 [12800/60000 (21%)]\tLoss: 1.019841\n",
      "Train epoch: 2 [25600/60000 (43%)]\tLoss: 0.711452\n",
      "Train epoch: 2 [38400/60000 (64%)]\tLoss: 0.609747\n",
      "Train epoch: 2 [51200/60000 (85%)]\tLoss: 0.477554\n",
      "[2] Test Loss: 0.5348, Accuracy: 79.09%\n",
      "Train epoch: 3 [0/60000 (0%)]\tLoss: 0.590821\n",
      "Train epoch: 3 [12800/60000 (21%)]\tLoss: 0.461002\n",
      "Train epoch: 3 [25600/60000 (43%)]\tLoss: 0.800342\n",
      "Train epoch: 3 [38400/60000 (64%)]\tLoss: 0.748656\n",
      "Train epoch: 3 [51200/60000 (85%)]\tLoss: 0.660741\n",
      "[3] Test Loss: 0.5013, Accuracy: 80.41%\n",
      "Train epoch: 4 [0/60000 (0%)]\tLoss: 0.444019\n",
      "Train epoch: 4 [12800/60000 (21%)]\tLoss: 0.678509\n",
      "Train epoch: 4 [25600/60000 (43%)]\tLoss: 0.556003\n",
      "Train epoch: 4 [38400/60000 (64%)]\tLoss: 0.709048\n",
      "Train epoch: 4 [51200/60000 (85%)]\tLoss: 0.650997\n",
      "[4] Test Loss: 0.4860, Accuracy: 81.09%\n",
      "Train epoch: 5 [0/60000 (0%)]\tLoss: 0.549111\n",
      "Train epoch: 5 [12800/60000 (21%)]\tLoss: 0.847397\n",
      "Train epoch: 5 [25600/60000 (43%)]\tLoss: 0.710244\n",
      "Train epoch: 5 [38400/60000 (64%)]\tLoss: 0.672492\n",
      "Train epoch: 5 [51200/60000 (85%)]\tLoss: 0.623491\n",
      "[5] Test Loss: 0.4635, Accuracy: 82.46%\n",
      "Train epoch: 6 [0/60000 (0%)]\tLoss: 0.450289\n",
      "Train epoch: 6 [12800/60000 (21%)]\tLoss: 0.623396\n",
      "Train epoch: 6 [25600/60000 (43%)]\tLoss: 0.683257\n",
      "Train epoch: 6 [38400/60000 (64%)]\tLoss: 0.636376\n",
      "Train epoch: 6 [51200/60000 (85%)]\tLoss: 0.438763\n",
      "[6] Test Loss: 0.4490, Accuracy: 83.69%\n",
      "Train epoch: 7 [0/60000 (0%)]\tLoss: 0.743371\n",
      "Train epoch: 7 [12800/60000 (21%)]\tLoss: 0.581365\n",
      "Train epoch: 7 [25600/60000 (43%)]\tLoss: 0.496122\n",
      "Train epoch: 7 [38400/60000 (64%)]\tLoss: 0.559871\n",
      "Train epoch: 7 [51200/60000 (85%)]\tLoss: 0.517117\n",
      "[7] Test Loss: 0.4268, Accuracy: 84.06%\n",
      "Train epoch: 8 [0/60000 (0%)]\tLoss: 0.532903\n",
      "Train epoch: 8 [12800/60000 (21%)]\tLoss: 0.780327\n",
      "Train epoch: 8 [25600/60000 (43%)]\tLoss: 0.487509\n",
      "Train epoch: 8 [38400/60000 (64%)]\tLoss: 0.562985\n",
      "Train epoch: 8 [51200/60000 (85%)]\tLoss: 0.608413\n",
      "[8] Test Loss: 0.4138, Accuracy: 84.29%\n",
      "Train epoch: 9 [0/60000 (0%)]\tLoss: 0.471212\n",
      "Train epoch: 9 [12800/60000 (21%)]\tLoss: 0.466877\n",
      "Train epoch: 9 [25600/60000 (43%)]\tLoss: 0.564768\n",
      "Train epoch: 9 [38400/60000 (64%)]\tLoss: 0.580029\n",
      "Train epoch: 9 [51200/60000 (85%)]\tLoss: 0.380179\n",
      "[9] Test Loss: 0.4099, Accuracy: 84.38%\n",
      "Train epoch: 10 [0/60000 (0%)]\tLoss: 0.440200\n",
      "Train epoch: 10 [12800/60000 (21%)]\tLoss: 0.610569\n",
      "Train epoch: 10 [25600/60000 (43%)]\tLoss: 0.372384\n",
      "Train epoch: 10 [38400/60000 (64%)]\tLoss: 0.358625\n",
      "Train epoch: 10 [51200/60000 (85%)]\tLoss: 0.470565\n",
      "[10] Test Loss: 0.3971, Accuracy: 84.94%\n",
      "Train epoch: 11 [0/60000 (0%)]\tLoss: 0.562058\n",
      "Train epoch: 11 [12800/60000 (21%)]\tLoss: 0.569453\n",
      "Train epoch: 11 [25600/60000 (43%)]\tLoss: 0.616134\n",
      "Train epoch: 11 [38400/60000 (64%)]\tLoss: 0.477460\n",
      "Train epoch: 11 [51200/60000 (85%)]\tLoss: 0.317684\n",
      "[11] Test Loss: 0.3888, Accuracy: 85.67%\n",
      "Train epoch: 12 [0/60000 (0%)]\tLoss: 0.643400\n",
      "Train epoch: 12 [12800/60000 (21%)]\tLoss: 0.393897\n",
      "Train epoch: 12 [25600/60000 (43%)]\tLoss: 0.534283\n",
      "Train epoch: 12 [38400/60000 (64%)]\tLoss: 0.334468\n",
      "Train epoch: 12 [51200/60000 (85%)]\tLoss: 0.607673\n",
      "[12] Test Loss: 0.3830, Accuracy: 85.78%\n",
      "Train epoch: 13 [0/60000 (0%)]\tLoss: 0.536149\n",
      "Train epoch: 13 [12800/60000 (21%)]\tLoss: 0.413767\n",
      "Train epoch: 13 [25600/60000 (43%)]\tLoss: 0.548256\n",
      "Train epoch: 13 [38400/60000 (64%)]\tLoss: 0.421357\n",
      "Train epoch: 13 [51200/60000 (85%)]\tLoss: 0.330889\n",
      "[13] Test Loss: 0.3872, Accuracy: 85.38%\n",
      "Train epoch: 14 [0/60000 (0%)]\tLoss: 0.340171\n",
      "Train epoch: 14 [12800/60000 (21%)]\tLoss: 0.474086\n",
      "Train epoch: 14 [25600/60000 (43%)]\tLoss: 0.476860\n",
      "Train epoch: 14 [38400/60000 (64%)]\tLoss: 0.543863\n",
      "Train epoch: 14 [51200/60000 (85%)]\tLoss: 0.507184\n",
      "[14] Test Loss: 0.3661, Accuracy: 86.58%\n",
      "Train epoch: 15 [0/60000 (0%)]\tLoss: 0.204200\n",
      "Train epoch: 15 [12800/60000 (21%)]\tLoss: 0.476134\n",
      "Train epoch: 15 [25600/60000 (43%)]\tLoss: 0.686612\n",
      "Train epoch: 15 [38400/60000 (64%)]\tLoss: 0.304799\n",
      "Train epoch: 15 [51200/60000 (85%)]\tLoss: 0.531778\n",
      "[15] Test Loss: 0.3657, Accuracy: 86.30%\n",
      "Train epoch: 16 [0/60000 (0%)]\tLoss: 0.683970\n",
      "Train epoch: 16 [12800/60000 (21%)]\tLoss: 0.371775\n",
      "Train epoch: 16 [25600/60000 (43%)]\tLoss: 0.513015\n",
      "Train epoch: 16 [38400/60000 (64%)]\tLoss: 0.293860\n",
      "Train epoch: 16 [51200/60000 (85%)]\tLoss: 0.434778\n",
      "[16] Test Loss: 0.3662, Accuracy: 86.38%\n",
      "Train epoch: 17 [0/60000 (0%)]\tLoss: 0.314998\n",
      "Train epoch: 17 [12800/60000 (21%)]\tLoss: 0.675696\n",
      "Train epoch: 17 [25600/60000 (43%)]\tLoss: 0.435543\n",
      "Train epoch: 17 [38400/60000 (64%)]\tLoss: 0.675516\n",
      "Train epoch: 17 [51200/60000 (85%)]\tLoss: 0.516315\n",
      "[17] Test Loss: 0.3594, Accuracy: 86.82%\n",
      "Train epoch: 18 [0/60000 (0%)]\tLoss: 0.375557\n",
      "Train epoch: 18 [12800/60000 (21%)]\tLoss: 0.527969\n",
      "Train epoch: 18 [25600/60000 (43%)]\tLoss: 0.379697\n",
      "Train epoch: 18 [38400/60000 (64%)]\tLoss: 0.395439\n",
      "Train epoch: 18 [51200/60000 (85%)]\tLoss: 0.355991\n",
      "[18] Test Loss: 0.3604, Accuracy: 86.81%\n",
      "Train epoch: 19 [0/60000 (0%)]\tLoss: 0.510692\n",
      "Train epoch: 19 [12800/60000 (21%)]\tLoss: 0.439992\n",
      "Train epoch: 19 [25600/60000 (43%)]\tLoss: 0.520721\n",
      "Train epoch: 19 [38400/60000 (64%)]\tLoss: 0.688394\n",
      "Train epoch: 19 [51200/60000 (85%)]\tLoss: 0.406216\n",
      "[19] Test Loss: 0.3492, Accuracy: 87.23%\n",
      "Train epoch: 20 [0/60000 (0%)]\tLoss: 0.366439\n",
      "Train epoch: 20 [12800/60000 (21%)]\tLoss: 0.380555\n",
      "Train epoch: 20 [25600/60000 (43%)]\tLoss: 0.350334\n",
      "Train epoch: 20 [38400/60000 (64%)]\tLoss: 0.360825\n",
      "Train epoch: 20 [51200/60000 (85%)]\tLoss: 0.335956\n",
      "[20] Test Loss: 0.3489, Accuracy: 87.34%\n",
      "Train epoch: 21 [0/60000 (0%)]\tLoss: 0.388191\n",
      "Train epoch: 21 [12800/60000 (21%)]\tLoss: 0.538825\n",
      "Train epoch: 21 [25600/60000 (43%)]\tLoss: 0.326516\n",
      "Train epoch: 21 [38400/60000 (64%)]\tLoss: 0.475194\n",
      "Train epoch: 21 [51200/60000 (85%)]\tLoss: 0.419346\n",
      "[21] Test Loss: 0.3458, Accuracy: 87.26%\n",
      "Train epoch: 22 [0/60000 (0%)]\tLoss: 0.421659\n",
      "Train epoch: 22 [12800/60000 (21%)]\tLoss: 0.417168\n",
      "Train epoch: 22 [25600/60000 (43%)]\tLoss: 0.462720\n",
      "Train epoch: 22 [38400/60000 (64%)]\tLoss: 0.396145\n",
      "Train epoch: 22 [51200/60000 (85%)]\tLoss: 0.457989\n",
      "[22] Test Loss: 0.3516, Accuracy: 87.40%\n",
      "Train epoch: 23 [0/60000 (0%)]\tLoss: 0.436460\n",
      "Train epoch: 23 [12800/60000 (21%)]\tLoss: 0.283726\n",
      "Train epoch: 23 [25600/60000 (43%)]\tLoss: 0.500629\n",
      "Train epoch: 23 [38400/60000 (64%)]\tLoss: 0.283622\n",
      "Train epoch: 23 [51200/60000 (85%)]\tLoss: 0.519808\n",
      "[23] Test Loss: 0.3469, Accuracy: 87.52%\n",
      "Train epoch: 24 [0/60000 (0%)]\tLoss: 0.373506\n",
      "Train epoch: 24 [12800/60000 (21%)]\tLoss: 0.310660\n",
      "Train epoch: 24 [25600/60000 (43%)]\tLoss: 0.429484\n",
      "Train epoch: 24 [38400/60000 (64%)]\tLoss: 0.412896\n",
      "Train epoch: 24 [51200/60000 (85%)]\tLoss: 0.390829\n",
      "[24] Test Loss: 0.3406, Accuracy: 87.30%\n",
      "Train epoch: 25 [0/60000 (0%)]\tLoss: 0.397350\n",
      "Train epoch: 25 [12800/60000 (21%)]\tLoss: 0.359167\n",
      "Train epoch: 25 [25600/60000 (43%)]\tLoss: 0.388637\n",
      "Train epoch: 25 [38400/60000 (64%)]\tLoss: 0.381659\n",
      "Train epoch: 25 [51200/60000 (85%)]\tLoss: 0.187891\n",
      "[25] Test Loss: 0.3424, Accuracy: 87.52%\n",
      "Train epoch: 26 [0/60000 (0%)]\tLoss: 0.398612\n",
      "Train epoch: 26 [12800/60000 (21%)]\tLoss: 0.244861\n",
      "Train epoch: 26 [25600/60000 (43%)]\tLoss: 0.187572\n",
      "Train epoch: 26 [38400/60000 (64%)]\tLoss: 0.468176\n",
      "Train epoch: 26 [51200/60000 (85%)]\tLoss: 0.459750\n",
      "[26] Test Loss: 0.3412, Accuracy: 87.64%\n",
      "Train epoch: 27 [0/60000 (0%)]\tLoss: 0.470493\n",
      "Train epoch: 27 [12800/60000 (21%)]\tLoss: 0.290321\n",
      "Train epoch: 27 [25600/60000 (43%)]\tLoss: 0.339314\n",
      "Train epoch: 27 [38400/60000 (64%)]\tLoss: 0.343934\n",
      "Train epoch: 27 [51200/60000 (85%)]\tLoss: 0.397141\n",
      "[27] Test Loss: 0.3412, Accuracy: 87.65%\n",
      "Train epoch: 28 [0/60000 (0%)]\tLoss: 0.430986\n",
      "Train epoch: 28 [12800/60000 (21%)]\tLoss: 0.274340\n",
      "Train epoch: 28 [25600/60000 (43%)]\tLoss: 0.522091\n",
      "Train epoch: 28 [38400/60000 (64%)]\tLoss: 0.222517\n",
      "Train epoch: 28 [51200/60000 (85%)]\tLoss: 0.504250\n",
      "[28] Test Loss: 0.3356, Accuracy: 87.72%\n",
      "Train epoch: 29 [0/60000 (0%)]\tLoss: 0.556906\n",
      "Train epoch: 29 [12800/60000 (21%)]\tLoss: 0.489240\n",
      "Train epoch: 29 [25600/60000 (43%)]\tLoss: 0.380434\n"
     ]
    },
    {
     "name": "stdout",
     "output_type": "stream",
     "text": [
      "Train epoch: 29 [38400/60000 (64%)]\tLoss: 0.521876\n",
      "Train epoch: 29 [51200/60000 (85%)]\tLoss: 0.548393\n",
      "[29] Test Loss: 0.3340, Accuracy: 87.87%\n",
      "Train epoch: 30 [0/60000 (0%)]\tLoss: 0.410602\n",
      "Train epoch: 30 [12800/60000 (21%)]\tLoss: 0.207007\n",
      "Train epoch: 30 [25600/60000 (43%)]\tLoss: 0.423211\n",
      "Train epoch: 30 [38400/60000 (64%)]\tLoss: 0.309178\n",
      "Train epoch: 30 [51200/60000 (85%)]\tLoss: 0.400115\n",
      "[30] Test Loss: 0.3313, Accuracy: 87.88%\n",
      "Train epoch: 31 [0/60000 (0%)]\tLoss: 0.396314\n",
      "Train epoch: 31 [12800/60000 (21%)]\tLoss: 0.331491\n",
      "Train epoch: 31 [25600/60000 (43%)]\tLoss: 0.350423\n",
      "Train epoch: 31 [38400/60000 (64%)]\tLoss: 0.326301\n",
      "Train epoch: 31 [51200/60000 (85%)]\tLoss: 0.303121\n",
      "[31] Test Loss: 0.3308, Accuracy: 87.99%\n",
      "Train epoch: 32 [0/60000 (0%)]\tLoss: 0.586142\n",
      "Train epoch: 32 [12800/60000 (21%)]\tLoss: 0.375688\n",
      "Train epoch: 32 [25600/60000 (43%)]\tLoss: 0.522747\n",
      "Train epoch: 32 [38400/60000 (64%)]\tLoss: 0.437121\n",
      "Train epoch: 32 [51200/60000 (85%)]\tLoss: 0.306206\n",
      "[32] Test Loss: 0.3310, Accuracy: 87.84%\n",
      "Train epoch: 33 [0/60000 (0%)]\tLoss: 0.267736\n",
      "Train epoch: 33 [12800/60000 (21%)]\tLoss: 0.730436\n",
      "Train epoch: 33 [25600/60000 (43%)]\tLoss: 0.330133\n",
      "Train epoch: 33 [38400/60000 (64%)]\tLoss: 0.514582\n",
      "Train epoch: 33 [51200/60000 (85%)]\tLoss: 0.344073\n",
      "[33] Test Loss: 0.3288, Accuracy: 87.75%\n",
      "Train epoch: 34 [0/60000 (0%)]\tLoss: 0.473699\n",
      "Train epoch: 34 [12800/60000 (21%)]\tLoss: 0.422869\n",
      "Train epoch: 34 [25600/60000 (43%)]\tLoss: 0.387196\n",
      "Train epoch: 34 [38400/60000 (64%)]\tLoss: 0.533571\n",
      "Train epoch: 34 [51200/60000 (85%)]\tLoss: 0.573408\n",
      "[34] Test Loss: 0.3253, Accuracy: 87.93%\n",
      "Train epoch: 35 [0/60000 (0%)]\tLoss: 0.461548\n",
      "Train epoch: 35 [12800/60000 (21%)]\tLoss: 0.356524\n",
      "Train epoch: 35 [25600/60000 (43%)]\tLoss: 0.316819\n",
      "Train epoch: 35 [38400/60000 (64%)]\tLoss: 0.298388\n",
      "Train epoch: 35 [51200/60000 (85%)]\tLoss: 0.354946\n",
      "[35] Test Loss: 0.3277, Accuracy: 88.06%\n",
      "Train epoch: 36 [0/60000 (0%)]\tLoss: 0.553039\n",
      "Train epoch: 36 [12800/60000 (21%)]\tLoss: 0.354094\n",
      "Train epoch: 36 [25600/60000 (43%)]\tLoss: 0.237252\n",
      "Train epoch: 36 [38400/60000 (64%)]\tLoss: 0.356184\n",
      "Train epoch: 36 [51200/60000 (85%)]\tLoss: 0.601426\n",
      "[36] Test Loss: 0.3223, Accuracy: 88.36%\n",
      "Train epoch: 37 [0/60000 (0%)]\tLoss: 0.401984\n",
      "Train epoch: 37 [12800/60000 (21%)]\tLoss: 0.542729\n",
      "Train epoch: 37 [25600/60000 (43%)]\tLoss: 0.342371\n",
      "Train epoch: 37 [38400/60000 (64%)]\tLoss: 0.601258\n",
      "Train epoch: 37 [51200/60000 (85%)]\tLoss: 0.425915\n",
      "[37] Test Loss: 0.3259, Accuracy: 88.28%\n",
      "Train epoch: 38 [0/60000 (0%)]\tLoss: 0.345839\n",
      "Train epoch: 38 [12800/60000 (21%)]\tLoss: 0.424231\n",
      "Train epoch: 38 [25600/60000 (43%)]\tLoss: 0.343793\n",
      "Train epoch: 38 [38400/60000 (64%)]\tLoss: 0.356950\n",
      "Train epoch: 38 [51200/60000 (85%)]\tLoss: 0.368593\n",
      "[38] Test Loss: 0.3268, Accuracy: 88.18%\n",
      "Train epoch: 39 [0/60000 (0%)]\tLoss: 0.519262\n",
      "Train epoch: 39 [12800/60000 (21%)]\tLoss: 0.394056\n",
      "Train epoch: 39 [25600/60000 (43%)]\tLoss: 0.526895\n",
      "Train epoch: 39 [38400/60000 (64%)]\tLoss: 0.206758\n",
      "Train epoch: 39 [51200/60000 (85%)]\tLoss: 0.350924\n",
      "[39] Test Loss: 0.3223, Accuracy: 88.20%\n",
      "Train epoch: 40 [0/60000 (0%)]\tLoss: 0.289510\n",
      "Train epoch: 40 [12800/60000 (21%)]\tLoss: 0.336522\n",
      "Train epoch: 40 [25600/60000 (43%)]\tLoss: 0.234012\n",
      "Train epoch: 40 [38400/60000 (64%)]\tLoss: 0.436625\n",
      "Train epoch: 40 [51200/60000 (85%)]\tLoss: 0.350383\n",
      "[40] Test Loss: 0.3177, Accuracy: 88.59%\n"
     ]
    }
   ],
   "source": [
    "for epoch in range(1, EPOCHS + 1):\n",
    "    train(model, train_loader, optimizer, epoch)\n",
    "    test_loss, test_accuracy = test(model, test_loader)\n",
    "    \n",
    "    print('[{}] Test Loss: {:.4f}, Accuracy: {:.2f}%'\n",
    "          .format(epoch, test_loss, test_accuracy))"
   ]
  }
 ],
 "metadata": {
  "kernelspec": {
   "display_name": "Python 3",
   "language": "python",
   "name": "python3"
  },
  "language_info": {
   "codemirror_mode": {
    "name": "ipython",
    "version": 3
   },
   "file_extension": ".py",
   "mimetype": "text/x-python",
   "name": "python",
   "nbconvert_exporter": "python",
   "pygments_lexer": "ipython3",
   "version": "3.6.5"
  }
 },
 "nbformat": 4,
 "nbformat_minor": 4
}
