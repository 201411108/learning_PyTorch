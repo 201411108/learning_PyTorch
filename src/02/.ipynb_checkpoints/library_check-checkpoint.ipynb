{
 "cells": [
  {
   "cell_type": "code",
   "execution_count": 1,
   "metadata": {},
   "outputs": [],
   "source": [
    "# Library check\n",
    "from importlib import import_module\n",
    "import os"
   ]
  },
  {
   "cell_type": "code",
   "execution_count": 10,
   "metadata": {},
   "outputs": [],
   "source": [
    "required_packages = [\n",
    "    'torch', 'torchvision', 'torchtext', 'numpy', 'sklearn', 'matplotlib'\n",
    "]"
   ]
  },
  {
   "cell_type": "code",
   "execution_count": 11,
   "metadata": {},
   "outputs": [
    {
     "name": "stdout",
     "output_type": "stream",
     "text": [
      "torch : 1.3.0+cpu\n",
      "torchvision : 0.4.1+cpu\n",
      "torchtext : 0.6.0\n",
      "numpy : 1.18.2\n",
      "sklearn : 0.22.2.post1\n",
      "matplotlib : 3.0.2\n",
      "ㅁㅇㄴㅎ가 설치되어 있지 않습니다. 설치가 필요합니다.\n"
     ]
    }
   ],
   "source": [
    "for package in required_packages:\n",
    "    try:\n",
    "        existed_module = import_module(package)\n",
    "        print('%s : %s' % (package, existed_module.__version__))\n",
    "    except:\n",
    "        print('{}가 설치되어 있지 않습니다. 설치가 필요합니다.'.format(package))"
   ]
  },
  {
   "cell_type": "code",
   "execution_count": null,
   "metadata": {},
   "outputs": [],
   "source": []
  }
 ],
 "metadata": {
  "kernelspec": {
   "display_name": "Python 3",
   "language": "python",
   "name": "python3"
  },
  "language_info": {
   "codemirror_mode": {
    "name": "ipython",
    "version": 3
   },
   "file_extension": ".py",
   "mimetype": "text/x-python",
   "name": "python",
   "nbconvert_exporter": "python",
   "pygments_lexer": "ipython3",
   "version": "3.6.5"
  }
 },
 "nbformat": 4,
 "nbformat_minor": 4
}
